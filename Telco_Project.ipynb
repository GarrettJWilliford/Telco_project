{
 "cells": [
  {
   "cell_type": "code",
   "execution_count": 17,
   "metadata": {},
   "outputs": [],
   "source": [
    "from sklearn.model_selection import train_test_split\n",
    "from sklearn.linear_model import LogisticRegression\n",
    "from sklearn.metrics import classification_report\n",
    "from sklearn.preprocessing import OneHotEncoder\n",
    "from sklearn.preprocessing import LabelEncoder\n",
    "from sklearn.metrics import confusion_matrix\n",
    "from sklearn.ensemble import RandomForestClassifier\n",
    "from sklearn.impute import SimpleImputer\n",
    "from sklearn.preprocessing import MinMaxScaler\n",
    "import matplotlib.pyplot as plt\n",
    "import numpy as np\n",
    "import seaborn as sns\n",
    "import pandas as pd\n",
    "import warnings\n",
    "import os\n",
    "import MySQLdb\n",
    "import pandas.io.sql as psql"
   ]
  },
  {
   "cell_type": "code",
   "execution_count": 79,
   "metadata": {},
   "outputs": [],
   "source": [
    "##GETTING TELCO DATA\n",
    "#I had to write a new one since jupyter notebook is not working with\n",
    "#any of my saves\n",
    "\n",
    "##HAD AN ISSUE WITH LOCAL IMPORTS, enter user and password to work\n",
    "\n",
    "\n",
    "\n",
    "def get_db_url(comm = '!', database = '!'):\n",
    "    db=MySQLdb.connect(host='!', user = '!', \\\n",
    "    passwd = 'RJXCMCahj151i781JMtY1T2NoIoH6KaG', db=database)\n",
    "    return psql.read_sql(comm, con=db)\n",
    "\n",
    "\n",
    "\n",
    "telco_data =get_db_url(comm = \"\"\"SELECT * \n",
    "FROM customers WHERE total_charges \n",
    "NOT LIKE ' ';\"\"\", database = 'telco_churn')\n",
    "\n",
    "telco_data = telco_data.drop(columns = ['customer_id', 'gender'])"
   ]
  },
  {
   "cell_type": "code",
   "execution_count": 82,
   "metadata": {},
   "outputs": [],
   "source": [
    "##FEATURE ENGINEERING\n",
    "\n",
    "#This is selecting the features I found to be important when checking if the data was accurate, \n",
    "#Secure count is a count of how many extra services there are while secure is a true false of if they have one\n",
    "#Same when it comes to stream, and stream_count\n",
    "#partner_depentents gives a specific id on what there home structure is(partner, dependents, both) \n",
    "\n",
    "\n",
    "\n",
    "def add_telco(data):\n",
    "    ##STREAMING\n",
    "    data['stream_count'] = (data['streaming_tv'].apply(lambda x : 1 if x == 'Yes' else 0)) + (data['streaming_movies'].apply(lambda x : 1 if x == 'Yes' else 0))\n",
    "    data['stream'] = data['stream_count'].apply(lambda x : 1 if x > 0 else 0)\n",
    "    data['techie'] = data['phone_service']\n",
    "    data['fiber_support'] = (data['tech_support'] == 'Yes') & (data['internet_service_type_id'] == 2)\n",
    "    ##BACK_END\n",
    "    data['churn'] = data['churn'].apply(lambda x: 1 if x == 'Yes' else 0)\n",
    "    data['secure_count'] = (data['online_security'].apply(lambda x : 1 if x == 'Yes' else 0)) + \\\n",
    "                     (data['online_backup'].apply(lambda x : 1 if x == 'Yes' else 0)) + \\\n",
    "                     (data['device_protection'].apply(lambda x : 1 if x == 'Yes' else 0)) + \\\n",
    "                     (data['tech_support'].apply(lambda x : 1 if x == 'Yes' else 0)) + \\\n",
    "                     (data['streaming_movies'].apply(lambda x : 1 if x == 'Yes' else 0)) + \\\n",
    "                     (data['streaming_tv'].apply(lambda x : 1 if x == 'Yes' else 0))\n",
    "                     \n",
    "    \n",
    "    data['secure'] = data['secure_count'].apply(lambda x : 1 if x > 0 else 0)\n",
    "    data['two_year'] = (data['contract_type_id'] == 3) & (data['tenure'] > 12)\n",
    "    data['partner_dependents'] = (data['partner'].apply(lambda x: 1 if x == 'Yes' else 0)) + (data['dependents'].apply(lambda x: 2 if x == 'Yes' else 0))\n",
    "    return data\n",
    "\n"
   ]
  },
  {
   "cell_type": "code",
   "execution_count": 83,
   "metadata": {},
   "outputs": [],
   "source": [
    "##ENCODING TELCO\n",
    "\n",
    "\n",
    "def prep_telco(data):\n",
    "    encoder = LabelEncoder()\n",
    "    encode_list = ['partner', 'dependents', 'online_security', 'online_backup','device_protection','tech_support','streaming_tv', \\\n",
    "                   'streaming_movies', 'paperless_billing', 'phone_service','multiple_lines', 'fiber_support']\n",
    "    for e in encode_list:\n",
    "        data[e] = encoder.fit_transform(data[e])\n",
    "    return data\n"
   ]
  },
  {
   "cell_type": "code",
   "execution_count": 84,
   "metadata": {},
   "outputs": [],
   "source": [
    "##INITIALIZING\n",
    "telco_data = add_telco(telco_data)\n",
    "telco_data = prep_telco(telco_data)\n",
    "\n"
   ]
  },
  {
   "cell_type": "code",
   "execution_count": 85,
   "metadata": {},
   "outputs": [
    {
     "name": "stdout",
     "output_type": "stream",
     "text": [
      "0.7342150170648464\n"
     ]
    }
   ],
   "source": [
    "telco_baseline = len(telco_data.where(telco_data['churn'] == 0).dropna()) / len(telco_data)\n",
    "print(telco_baseline)"
   ]
  },
  {
   "cell_type": "code",
   "execution_count": 87,
   "metadata": {},
   "outputs": [],
   "source": [
    "##SELECTING FEATURES\n",
    "#Along with my features engineers, I used tenure, total_charges, monthly_charges, online_security, and contract_type\n",
    "\n",
    "def tiny_telco(data):\n",
    "    return data[['tenure','total_charges', 'monthly_charges', 'secure_count', \\\n",
    "                  'online_security', 'fiber_support', 'contract_type_id', 'churn']]\n",
    "telco_data = tiny_telco(telco_data)"
   ]
  },
  {
   "cell_type": "code",
   "execution_count": 88,
   "metadata": {},
   "outputs": [],
   "source": [
    "##RANDOM FOREST MODEL\n",
    "#between logistical regression, decision tree, and random forest, \n",
    "#and I found the random forest to have the best accuracy and confusion matrix\n",
    "\n",
    "\n",
    "x= telco_data.drop(columns = ['churn'])\n",
    "y = telco_data['churn']\n",
    "x_train, x_test, y_train, y_test = train_test_split(x, y, random_state = 141)\n",
    "\n",
    "logit = RandomForestClassifier(bootstrap=True, \n",
    "                            class_weight=None, \n",
    "                            criterion='gini',\n",
    "                            min_samples_leaf=3,\n",
    "                            n_estimators=100,\n",
    "                            max_depth=3, \n",
    "                            random_state=123).fit(x_test, y_test)\n",
    "\n",
    "y_pred = logit.predict(x_train)\n",
    "y_pred_proba = logit.predict_proba(x_test)"
   ]
  },
  {
   "cell_type": "code",
   "execution_count": 89,
   "metadata": {},
   "outputs": [],
   "source": [
    "##RESULTS DEFINITION STATEMENT\n",
    "#this is just a copy paste of a general def statement I have to measure results\n",
    "\n",
    "def results_train(logit, y_pred, y_pred_proba, x_train, y_train):\n",
    "    print('\\n\\n<<<<<<<<<<<<<<<<|RESULTS|>>>>>>>>>>>>>>>\\n')\n",
    "    print('Accuracy of classifier on training set: {:.2f} \\n'\n",
    "          .format(logit.score(x_train, y_train)))\n",
    "    try:\n",
    "        print('Accuracy of classifier on test set: {:.2f} \\n'\n",
    "              .format(logit.score(x_test, y_test)))\n",
    "    except:\n",
    "        pass\n",
    "    try:\n",
    "        print('----------|FEATURE_IMPORTANCE|----------')\n",
    "        print(logit.feature_importances_)\n",
    "    except:\n",
    "        pass\n",
    "    try:\n",
    "        print('Coefficient: \\n', logit.coef_)\n",
    "    except:\n",
    "        pass\n",
    "    try:\n",
    "        print('Intercept: \\n', logit.intercept_)\n",
    "    except:\n",
    "        pass\n",
    "    print('')\n",
    "    try:\n",
    "        print('-----------|CONFUSION_MATRIX|------------')\n",
    "        print(confusion_matrix(y_train, y_pred))\n",
    "    except:\n",
    "        pass\n",
    "    try:\n",
    "        print('-----------------|REPORT|-----------------')\n",
    "        print(classification_report(y_train, y_pred))\n",
    "        print('----------------------------------------')\n",
    "    except:\n",
    "        pass\n",
    "    \n",
    "    \n"
   ]
  },
  {
   "cell_type": "code",
   "execution_count": 77,
   "metadata": {},
   "outputs": [
    {
     "name": "stdout",
     "output_type": "stream",
     "text": [
      "\n",
      "\n",
      "<<<<<<<<<<<<<<<<|RESULTS|>>>>>>>>>>>>>>>\n",
      "\n",
      "Accuracy of classifier on training set: 0.80 \n",
      "\n",
      "Accuracy of classifier on test set: 0.80 \n",
      "\n",
      "----------|FEATURE_IMPORTANCE|----------\n",
      "[0.28983313 0.12300053 0.12039617 0.02414601 0.14328839 0.00372073\n",
      " 0.29561505]\n",
      "\n",
      "-----------|CONFUSION_MATRIX|------------\n",
      "[[3602  270]\n",
      " [ 805  597]]\n",
      "-----------------|REPORT|-----------------\n",
      "              precision    recall  f1-score   support\n",
      "\n",
      "           0       0.82      0.93      0.87      3872\n",
      "           1       0.69      0.43      0.53      1402\n",
      "\n",
      "    accuracy                           0.80      5274\n",
      "   macro avg       0.75      0.68      0.70      5274\n",
      "weighted avg       0.78      0.80      0.78      5274\n",
      "\n",
      "----------------------------------------\n"
     ]
    }
   ],
   "source": [
    "##DISPLAY RESULTS\n",
    "results_train(logit, y_pred, y_pred_proba, x_train, y_train)"
   ]
  },
  {
   "cell_type": "code",
   "execution_count": null,
   "metadata": {},
   "outputs": [],
   "source": []
  }
 ],
 "metadata": {
  "kernelspec": {
   "display_name": "Python 3",
   "language": "python",
   "name": "python3"
  },
  "language_info": {
   "codemirror_mode": {
    "name": "ipython",
    "version": 3
   },
   "file_extension": ".py",
   "mimetype": "text/x-python",
   "name": "python",
   "nbconvert_exporter": "python",
   "pygments_lexer": "ipython3",
   "version": "3.7.3"
  }
 },
 "nbformat": 4,
 "nbformat_minor": 2
}
